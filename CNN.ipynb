{
  "nbformat": 4,
  "nbformat_minor": 0,
  "metadata": {
    "colab": {
      "name": "CNN.ipynb",
      "provenance": [],
      "authorship_tag": "ABX9TyP/GlN9wxXt0tey13g03qB0",
      "include_colab_link": true
    },
    "kernelspec": {
      "name": "python3",
      "display_name": "Python 3"
    }
  },
  "cells": [
    {
      "cell_type": "markdown",
      "metadata": {
        "id": "view-in-github",
        "colab_type": "text"
      },
      "source": [
        "<a href=\"https://colab.research.google.com/github/Armadini/CIFAR10_CNN/blob/main/CNN.ipynb\" target=\"_parent\"><img src=\"https://colab.research.google.com/assets/colab-badge.svg\" alt=\"Open In Colab\"/></a>"
      ]
    },
    {
      "cell_type": "code",
      "metadata": {
        "colab": {
          "base_uri": "https://localhost:8080/"
        },
        "id": "dNJdjon_daqJ",
        "outputId": "70b1dbfb-a12d-415e-9561-bf3eb76ca70f"
      },
      "source": [
        "import numpy as np\n",
        "import tensorflow as tf\n",
        "\n",
        "from google.colab import drive\n",
        "# drive.mount('/content/drive/')\n",
        "%cd /content/drive/MyDrive/Colab Notebooks"
      ],
      "execution_count": null,
      "outputs": [
        {
          "output_type": "stream",
          "text": [
            "[Errno 2] No such file or directory: '/content/drive/MyDrive/Colab Notebooks'\n",
            "/content\n"
          ],
          "name": "stdout"
        }
      ]
    },
    {
      "cell_type": "code",
      "metadata": {
        "id": "69rqfwB9fX6K"
      },
      "source": [
        "def load_data():\n",
        "    (X_train, y_train), (X_test, y_test) = tf.keras.datasets.cifar10.load_data()\n",
        "\n",
        "    # Convert y_train, y_test to be a list\n",
        "    y_train = [y for arr in y_train for y in arr]\n",
        "    y_test = [y for arr in y_test for y in arr]\n",
        "\n",
        "    return X_train, y_train, X_test, y_test"
      ],
      "execution_count": null,
      "outputs": []
    },
    {
      "cell_type": "code",
      "metadata": {
        "id": "99wt8y7Cfuht"
      },
      "source": [
        "train_images, train_labels, test_images, test_labels = load_data()"
      ],
      "execution_count": null,
      "outputs": []
    },
    {
      "cell_type": "code",
      "metadata": {
        "id": "sOxAgBjxgF6c"
      },
      "source": [
        "classes = ['airplane', 'automobile', 'bird', 'cat', 'deer', \n",
        "           'dog', 'frog', 'horse', 'ship', 'truck']\n",
        "num_classes = len(classes)\n",
        "PERCENT_DATA_USED = 1 # ex. would be .1 for 10% of data"
      ],
      "execution_count": null,
      "outputs": []
    },
    {
      "cell_type": "code",
      "metadata": {
        "colab": {
          "base_uri": "https://localhost:8080/"
        },
        "id": "fLZ2VhpEgfto",
        "outputId": "e80b6b39-5bd6-41fd-a22f-b98da81bfae0"
      },
      "source": [
        "# Display the shape of the data\n",
        "print(\"Train images:\", train_images.shape)\n",
        "print(\"Train labels:\", len(train_labels)) \n",
        "print(\"Test images:\", test_images.shape)\n",
        "print(\"Test labels\", len(test_labels))\n",
        "print(\"Number of classes:\", len(classes))"
      ],
      "execution_count": null,
      "outputs": [
        {
          "output_type": "stream",
          "text": [
            "Train images: (50000, 32, 32, 3)\n",
            "Train labels: 50000\n",
            "Test images: (10000, 32, 32, 3)\n",
            "Test labels 10000\n",
            "Number of classes: 10\n"
          ],
          "name": "stdout"
        }
      ]
    },
    {
      "cell_type": "code",
      "metadata": {
        "id": "oAiAegHrhC4J",
        "colab": {
          "base_uri": "https://localhost:8080/"
        },
        "outputId": "dbe88889-9110-4705-dfd6-e7c76c0d2ab4"
      },
      "source": [
        "print(train_images[0])"
      ],
      "execution_count": null,
      "outputs": [
        {
          "output_type": "stream",
          "text": [
            "[[[ 59  62  63]\n",
            "  [ 43  46  45]\n",
            "  [ 50  48  43]\n",
            "  ...\n",
            "  [158 132 108]\n",
            "  [152 125 102]\n",
            "  [148 124 103]]\n",
            "\n",
            " [[ 16  20  20]\n",
            "  [  0   0   0]\n",
            "  [ 18   8   0]\n",
            "  ...\n",
            "  [123  88  55]\n",
            "  [119  83  50]\n",
            "  [122  87  57]]\n",
            "\n",
            " [[ 25  24  21]\n",
            "  [ 16   7   0]\n",
            "  [ 49  27   8]\n",
            "  ...\n",
            "  [118  84  50]\n",
            "  [120  84  50]\n",
            "  [109  73  42]]\n",
            "\n",
            " ...\n",
            "\n",
            " [[208 170  96]\n",
            "  [201 153  34]\n",
            "  [198 161  26]\n",
            "  ...\n",
            "  [160 133  70]\n",
            "  [ 56  31   7]\n",
            "  [ 53  34  20]]\n",
            "\n",
            " [[180 139  96]\n",
            "  [173 123  42]\n",
            "  [186 144  30]\n",
            "  ...\n",
            "  [184 148  94]\n",
            "  [ 97  62  34]\n",
            "  [ 83  53  34]]\n",
            "\n",
            " [[177 144 116]\n",
            "  [168 129  94]\n",
            "  [179 142  87]\n",
            "  ...\n",
            "  [216 184 140]\n",
            "  [151 118  84]\n",
            "  [123  92  72]]]\n"
          ],
          "name": "stdout"
        }
      ]
    },
    {
      "cell_type": "code",
      "metadata": {
        "id": "AZG7q2tYgxa_"
      },
      "source": [
        "%matplotlib inline\n",
        "import matplotlib.pyplot as plt\n",
        "def show_image(index):\n",
        "    print(classes[train_labels[index]])\n",
        "    plot = plt.imshow(train_images[index])"
      ],
      "execution_count": null,
      "outputs": []
    },
    {
      "cell_type": "code",
      "metadata": {
        "id": "9oPRyZ6gg8eo"
      },
      "source": [
        "idx = 0\n",
        "show_image(idx)"
      ],
      "execution_count": null,
      "outputs": []
    },
    {
      "cell_type": "code",
      "metadata": {
        "id": "pzjpgOUMhflO"
      },
      "source": [
        "X_train = train_images.astype('float32')\n",
        "X_test = test_images.astype('float32')\n",
        "\n",
        "# CONVERT DATA FROM 0-255 TO 0-1.0\n",
        "X_train /= 255\n",
        "X_test /= 255\n",
        "\n",
        "# SHUFFLE\n",
        "from sklearn.utils import shuffle\n",
        "\n",
        "X_train, y_train = shuffle(X_train, train_labels)\n",
        "X_test, y_test = shuffle(X_test, test_labels)\n",
        "\n",
        "# Downsize based on % of data used\n",
        "num_training = int(len(train_labels) * PERCENT_DATA_USED)\n",
        "num_testing = int(len(test_labels) * PERCENT_DATA_USED)\n",
        "\n",
        "X_train = X_train[:num_training]\n",
        "X_test = X_test[:num_testing]\n",
        "y_train = y_train[:num_training]\n",
        "y_test = y_test[:num_testing]\n",
        "\n",
        "# One-hot encode the output data\n",
        "from tensorflow.keras.utils import to_categorical\n",
        "y_train = to_categorical(y_train)\n",
        "y_test = to_categorical(y_test)"
      ],
      "execution_count": null,
      "outputs": []
    },
    {
      "cell_type": "code",
      "metadata": {
        "colab": {
          "base_uri": "https://localhost:8080/"
        },
        "id": "msMj2xrmkh5B",
        "outputId": "86c04651-058b-47a7-c7c6-6246d39f7d58"
      },
      "source": [
        "print(len(X_train), len(y_train), len(X_test), len(y_test))\n",
        "print(\"y train shape \", y_train.shape)"
      ],
      "execution_count": null,
      "outputs": [
        {
          "output_type": "stream",
          "text": [
            "50000 50000 10000 10000\n",
            "y train shape  (50000, 10)\n"
          ],
          "name": "stdout"
        }
      ]
    },
    {
      "cell_type": "code",
      "metadata": {
        "id": "tHXmJ15Z-kiz"
      },
      "source": [
        "def show_image(index):\n",
        "    class_id = np.argmax(y_train[index])\n",
        "    print(classes[class_id])\n",
        "    plot = plt.imshow(X_train[index])"
      ],
      "execution_count": null,
      "outputs": []
    },
    {
      "cell_type": "code",
      "metadata": {
        "id": "CGQDXIau-mu9",
        "colab": {
          "base_uri": "https://localhost:8080/",
          "height": 283
        },
        "outputId": "5e6184d2-dc89-4b1a-e012-70a8f043e46d"
      },
      "source": [
        "show_image(20)"
      ],
      "execution_count": null,
      "outputs": [
        {
          "output_type": "stream",
          "text": [
            "deer\n"
          ],
          "name": "stdout"
        },
        {
          "output_type": "display_data",
          "data": {
            "image/png": "[encoded data removed]",
            "text/plain": [
              "<Figure size 432x288 with 1 Axes>"
            ]
          },
          "metadata": {
            "tags": [],
            "needs_background": "light"
          }
        }
      ]
    },
    {
      "cell_type": "code",
      "metadata": {
        "id": "s2NS1JhO-s6m"
      },
      "source": [
        "from tensorflow.keras import models\n",
        "from tensorflow.keras.layers import Conv2D, MaxPooling2D, Flatten, Dense, BatchNormalization, Dropout\n",
        "\n",
        "model = models.Sequential()\n",
        "model.add(Conv2D(32, (3, 3), activation='relu', kernel_initializer='he_uniform', padding='same', input_shape=(32, 32, 3)))\n",
        "model.add(BatchNormalization())\n",
        "model.add(Conv2D(32, (3, 3), activation='relu', kernel_initializer='he_uniform', padding='same'))\n",
        "model.add(BatchNormalization())\n",
        "model.add(MaxPooling2D((2, 2)))\n",
        "model.add(Dropout(0.2))\n",
        "model.add(Conv2D(64, (3, 3), activation='relu', kernel_initializer='he_uniform', padding='same'))\n",
        "model.add(BatchNormalization())\n",
        "model.add(Conv2D(64, (3, 3), activation='relu', kernel_initializer='he_uniform', padding='same'))\n",
        "model.add(BatchNormalization())\n",
        "model.add(MaxPooling2D((2, 2)))\n",
        "model.add(Dropout(0.3))\n",
        "model.add(Conv2D(128, (3, 3), activation='relu', kernel_initializer='he_uniform', padding='same'))\n",
        "model.add(BatchNormalization())\n",
        "model.add(Conv2D(128, (3, 3), activation='relu', kernel_initializer='he_uniform', padding='same'))\n",
        "model.add(BatchNormalization())\n",
        "model.add(MaxPooling2D((2, 2)))\n",
        "model.add(Dropout(0.4))\n",
        "model.add(Flatten())\n",
        "model.add(Dense(128, activation='relu', kernel_initializer='he_uniform'))\n",
        "model.add(BatchNormalization())\n",
        "model.add(Dropout(0.5))\n",
        "model.add(Dense(10, activation='softmax'))\n"
      ],
      "execution_count": null,
      "outputs": []
    },
    {
      "cell_type": "code",
      "metadata": {
        "id": "V33Obl05z_jM"
      },
      "source": [
        "from keras.optimizers import SGD\n",
        "# compile model\n",
        "opt = SGD(lr=0.001, momentum=0.9)\n",
        "model.compile(optimizer=opt, loss='categorical_crossentropy', metrics=['accuracy'])"
      ],
      "execution_count": null,
      "outputs": []
    },
    {
      "cell_type": "code",
      "metadata": {
        "colab": {
          "base_uri": "https://localhost:8080/"
        },
        "id": "GWUYwU_s0QJV",
        "outputId": "993b8001-7f23-4ac0-e4f0-569631bfd63f"
      },
      "source": [
        "from keras.preprocessing.image import ImageDataGenerator\n",
        "datagen = ImageDataGenerator(width_shift_range=0.1, height_shift_range=0.1, horizontal_flip=True)\n",
        "# prepare iterator\n",
        "it_train = datagen.flow(X_train, y_train, batch_size=64)\n",
        "steps = int(X_train.shape[0] / 64)\n",
        "history = model.fit_generator(it_train, steps_per_epoch=steps, epochs=400, validation_data=(X_test, y_test), verbose=1)"
      ],
      "execution_count": null,
      "outputs": [
        {
          "output_type": "stream",
          "text": [
            "/usr/local/lib/python3.6/dist-packages/tensorflow/python/keras/engine/training.py:1844: UserWarning: `Model.fit_generator` is deprecated and will be removed in a future version. Please use `Model.fit`, which supports generators.\n",
            "  warnings.warn('`Model.fit_generator` is deprecated and '\n"
          ],
          "name": "stderr"
        },
        {
          "output_type": "stream",
          "text": [
            "Epoch 1/400\n",
            "781/781 [==============================] - 455s 580ms/step - loss: 2.5695 - accuracy: 0.2316 - val_loss: 1.5338 - val_accuracy: 0.4418\n",
            "Epoch 2/400\n",
            "781/781 [==============================] - 448s 574ms/step - loss: 1.6654 - accuracy: 0.3928 - val_loss: 1.4501 - val_accuracy: 0.4648\n",
            "Epoch 3/400\n",
            "781/781 [==============================] - 451s 577ms/step - loss: 1.5027 - accuracy: 0.4527 - val_loss: 1.3442 - val_accuracy: 0.5179\n",
            "Epoch 4/400\n",
            "781/781 [==============================] - 449s 575ms/step - loss: 1.4042 - accuracy: 0.4878 - val_loss: 1.5268 - val_accuracy: 0.4597\n",
            "Epoch 5/400\n",
            "781/781 [==============================] - 457s 585ms/step - loss: 1.3386 - accuracy: 0.5146 - val_loss: 1.2662 - val_accuracy: 0.5384\n",
            "Epoch 6/400\n",
            "781/781 [==============================] - 452s 579ms/step - loss: 1.2833 - accuracy: 0.5352 - val_loss: 1.3838 - val_accuracy: 0.5131\n",
            "Epoch 7/400\n",
            "781/781 [==============================] - 451s 578ms/step - loss: 1.2441 - accuracy: 0.5503 - val_loss: 1.1849 - val_accuracy: 0.5740\n",
            "Epoch 8/400\n",
            "781/781 [==============================] - 451s 577ms/step - loss: 1.1969 - accuracy: 0.5666 - val_loss: 1.2624 - val_accuracy: 0.5556\n",
            "Epoch 9/400\n",
            "781/781 [==============================] - 452s 578ms/step - loss: 1.1541 - accuracy: 0.5845 - val_loss: 1.1846 - val_accuracy: 0.5755\n",
            "Epoch 10/400\n",
            "781/781 [==============================] - 451s 577ms/step - loss: 1.1184 - accuracy: 0.5996 - val_loss: 1.1711 - val_accuracy: 0.5870\n",
            "Epoch 11/400\n",
            "781/781 [==============================] - 454s 582ms/step - loss: 1.0905 - accuracy: 0.6119 - val_loss: 1.1197 - val_accuracy: 0.6049\n",
            "Epoch 12/400\n",
            "781/781 [==============================] - 453s 580ms/step - loss: 1.0640 - accuracy: 0.6209 - val_loss: 1.2030 - val_accuracy: 0.5802\n",
            "Epoch 13/400\n",
            "781/781 [==============================] - 452s 578ms/step - loss: 1.0497 - accuracy: 0.6298 - val_loss: 1.1031 - val_accuracy: 0.6145\n",
            "Epoch 14/400\n",
            "781/781 [==============================] - 455s 583ms/step - loss: 1.0252 - accuracy: 0.6362 - val_loss: 0.9460 - val_accuracy: 0.6626\n",
            "Epoch 15/400\n",
            "781/781 [==============================] - 454s 581ms/step - loss: 1.0001 - accuracy: 0.6477 - val_loss: 0.9294 - val_accuracy: 0.6690\n",
            "Epoch 16/400\n",
            "781/781 [==============================] - 454s 581ms/step - loss: 0.9885 - accuracy: 0.6497 - val_loss: 1.0422 - val_accuracy: 0.6353\n",
            "Epoch 17/400\n",
            "781/781 [==============================] - 457s 585ms/step - loss: 0.9687 - accuracy: 0.6587 - val_loss: 0.9851 - val_accuracy: 0.6503\n",
            "Epoch 18/400\n",
            "781/781 [==============================] - 455s 582ms/step - loss: 0.9644 - accuracy: 0.6566 - val_loss: 0.8951 - val_accuracy: 0.6835\n",
            "Epoch 19/400\n",
            "781/781 [==============================] - 451s 578ms/step - loss: 0.9513 - accuracy: 0.6639 - val_loss: 0.8747 - val_accuracy: 0.6879\n",
            "Epoch 20/400\n",
            "781/781 [==============================] - 454s 582ms/step - loss: 0.9137 - accuracy: 0.6769 - val_loss: 0.8861 - val_accuracy: 0.6855\n",
            "Epoch 21/400\n",
            "781/781 [==============================] - 458s 586ms/step - loss: 0.9180 - accuracy: 0.6769 - val_loss: 0.8581 - val_accuracy: 0.6949\n",
            "Epoch 22/400\n",
            "781/781 [==============================] - 458s 587ms/step - loss: 0.9077 - accuracy: 0.6791 - val_loss: 0.8736 - val_accuracy: 0.6939\n",
            "Epoch 23/400\n",
            "781/781 [==============================] - 456s 583ms/step - loss: 0.8982 - accuracy: 0.6811 - val_loss: 0.8192 - val_accuracy: 0.7115\n",
            "Epoch 24/400\n",
            "781/781 [==============================] - 456s 584ms/step - loss: 0.8875 - accuracy: 0.6871 - val_loss: 0.7896 - val_accuracy: 0.7184\n",
            "Epoch 25/400\n",
            "781/781 [==============================] - 456s 584ms/step - loss: 0.8813 - accuracy: 0.6895 - val_loss: 0.9106 - val_accuracy: 0.6851\n",
            "Epoch 26/400\n",
            "781/781 [==============================] - 454s 582ms/step - loss: 0.8560 - accuracy: 0.6974 - val_loss: 0.8379 - val_accuracy: 0.7074\n",
            "Epoch 27/400\n",
            "781/781 [==============================] - 460s 588ms/step - loss: 0.8667 - accuracy: 0.6947 - val_loss: 0.9354 - val_accuracy: 0.6772\n",
            "Epoch 28/400\n",
            "781/781 [==============================] - 460s 590ms/step - loss: 0.8451 - accuracy: 0.7045 - val_loss: 0.8757 - val_accuracy: 0.6934\n",
            "Epoch 29/400\n",
            "781/781 [==============================] - 460s 588ms/step - loss: 0.8362 - accuracy: 0.7079 - val_loss: 0.8132 - val_accuracy: 0.7150\n",
            "Epoch 30/400\n",
            "781/781 [==============================] - 457s 585ms/step - loss: 0.8263 - accuracy: 0.7115 - val_loss: 0.7994 - val_accuracy: 0.7191\n",
            "Epoch 31/400\n",
            "781/781 [==============================] - 456s 584ms/step - loss: 0.8261 - accuracy: 0.7107 - val_loss: 0.7986 - val_accuracy: 0.7191\n",
            "Epoch 32/400\n",
            "781/781 [==============================] - 458s 586ms/step - loss: 0.7929 - accuracy: 0.7202 - val_loss: 0.7737 - val_accuracy: 0.7283\n",
            "Epoch 33/400\n",
            "781/781 [==============================] - 457s 585ms/step - loss: 0.7989 - accuracy: 0.7202 - val_loss: 0.7681 - val_accuracy: 0.7338\n",
            "Epoch 34/400\n",
            "781/781 [==============================] - 456s 584ms/step - loss: 0.7796 - accuracy: 0.7317 - val_loss: 0.7577 - val_accuracy: 0.7353\n",
            "Epoch 35/400\n",
            "781/781 [==============================] - 460s 589ms/step - loss: 0.7857 - accuracy: 0.7246 - val_loss: 0.7454 - val_accuracy: 0.7399\n",
            "Epoch 36/400\n",
            "781/781 [==============================] - 457s 585ms/step - loss: 0.7755 - accuracy: 0.7264 - val_loss: 0.7325 - val_accuracy: 0.7405\n",
            "Epoch 37/400\n",
            "781/781 [==============================] - 456s 584ms/step - loss: 0.7670 - accuracy: 0.7312 - val_loss: 0.7950 - val_accuracy: 0.7213\n",
            "Epoch 38/400\n",
            "781/781 [==============================] - 456s 584ms/step - loss: 0.7666 - accuracy: 0.7332 - val_loss: 0.7535 - val_accuracy: 0.7342\n",
            "Epoch 39/400\n",
            "781/781 [==============================] - 456s 583ms/step - loss: 0.7588 - accuracy: 0.7345 - val_loss: 0.7088 - val_accuracy: 0.7500\n",
            "Epoch 40/400\n",
            "781/781 [==============================] - 453s 580ms/step - loss: 0.7581 - accuracy: 0.7361 - val_loss: 0.6844 - val_accuracy: 0.7635\n",
            "Epoch 41/400\n",
            "781/781 [==============================] - 455s 583ms/step - loss: 0.7435 - accuracy: 0.7436 - val_loss: 0.7368 - val_accuracy: 0.7446\n",
            "Epoch 42/400\n",
            "781/781 [==============================] - 455s 583ms/step - loss: 0.7368 - accuracy: 0.7436 - val_loss: 0.6653 - val_accuracy: 0.7715\n",
            "Epoch 43/400\n",
            "781/781 [==============================] - 454s 581ms/step - loss: 0.7367 - accuracy: 0.7444 - val_loss: 0.7295 - val_accuracy: 0.7469\n",
            "Epoch 44/400\n",
            "781/781 [==============================] - 460s 588ms/step - loss: 0.7271 - accuracy: 0.7471 - val_loss: 0.7271 - val_accuracy: 0.7465\n",
            "Epoch 45/400\n",
            "781/781 [==============================] - 455s 583ms/step - loss: 0.7349 - accuracy: 0.7449 - val_loss: 0.6805 - val_accuracy: 0.7619\n",
            "Epoch 46/400\n",
            "781/781 [==============================] - 460s 589ms/step - loss: 0.7237 - accuracy: 0.7482 - val_loss: 0.6712 - val_accuracy: 0.7689\n",
            "Epoch 47/400\n",
            "781/781 [==============================] - 455s 583ms/step - loss: 0.7183 - accuracy: 0.7505 - val_loss: 0.6097 - val_accuracy: 0.7889\n",
            "Epoch 48/400\n",
            "781/781 [==============================] - 454s 581ms/step - loss: 0.7064 - accuracy: 0.7548 - val_loss: 0.6442 - val_accuracy: 0.7774\n",
            "Epoch 49/400\n",
            "781/781 [==============================] - 453s 580ms/step - loss: 0.7011 - accuracy: 0.7541 - val_loss: 0.6247 - val_accuracy: 0.7853\n",
            "Epoch 50/400\n",
            "781/781 [==============================] - 454s 581ms/step - loss: 0.6983 - accuracy: 0.7581 - val_loss: 0.6347 - val_accuracy: 0.7776\n",
            "Epoch 51/400\n",
            "781/781 [==============================] - 453s 581ms/step - loss: 0.6801 - accuracy: 0.7651 - val_loss: 0.6621 - val_accuracy: 0.7718\n",
            "Epoch 52/400\n",
            "781/781 [==============================] - 455s 583ms/step - loss: 0.6820 - accuracy: 0.7655 - val_loss: 0.6453 - val_accuracy: 0.7728\n",
            "Epoch 53/400\n",
            "781/781 [==============================] - 454s 581ms/step - loss: 0.6801 - accuracy: 0.7663 - val_loss: 0.6134 - val_accuracy: 0.7877\n",
            "Epoch 54/400\n",
            "781/781 [==============================] - 456s 583ms/step - loss: 0.6702 - accuracy: 0.7678 - val_loss: 0.6947 - val_accuracy: 0.7607\n",
            "Epoch 55/400\n",
            "781/781 [==============================] - 455s 582ms/step - loss: 0.6619 - accuracy: 0.7728 - val_loss: 0.5876 - val_accuracy: 0.7989\n",
            "Epoch 56/400\n",
            "781/781 [==============================] - 455s 583ms/step - loss: 0.6555 - accuracy: 0.7731 - val_loss: 0.6277 - val_accuracy: 0.7802\n",
            "Epoch 57/400\n",
            "781/781 [==============================] - 458s 586ms/step - loss: 0.6648 - accuracy: 0.7710 - val_loss: 0.6168 - val_accuracy: 0.7868\n",
            "Epoch 58/400\n",
            "781/781 [==============================] - 455s 583ms/step - loss: 0.6605 - accuracy: 0.7698 - val_loss: 0.5634 - val_accuracy: 0.8046\n",
            "Epoch 59/400\n",
            "781/781 [==============================] - 456s 583ms/step - loss: 0.6534 - accuracy: 0.7763 - val_loss: 0.5706 - val_accuracy: 0.8003\n",
            "Epoch 60/400\n",
            "781/781 [==============================] - 454s 581ms/step - loss: 0.6566 - accuracy: 0.7725 - val_loss: 0.6261 - val_accuracy: 0.7808\n",
            "Epoch 61/400\n",
            "781/781 [==============================] - 455s 583ms/step - loss: 0.6505 - accuracy: 0.7757 - val_loss: 0.6119 - val_accuracy: 0.7850\n",
            "Epoch 62/400\n",
            "781/781 [==============================] - 454s 581ms/step - loss: 0.6457 - accuracy: 0.7749 - val_loss: 0.6122 - val_accuracy: 0.7889\n",
            "Epoch 63/400\n",
            "781/781 [==============================] - 457s 586ms/step - loss: 0.6328 - accuracy: 0.7824 - val_loss: 0.5941 - val_accuracy: 0.7979\n",
            "Epoch 64/400\n",
            "781/781 [==============================] - 460s 589ms/step - loss: 0.6374 - accuracy: 0.7809 - val_loss: 0.5721 - val_accuracy: 0.8043\n",
            "Epoch 65/400\n",
            "781/781 [==============================] - 457s 585ms/step - loss: 0.6394 - accuracy: 0.7783 - val_loss: 0.6209 - val_accuracy: 0.7890\n",
            "Epoch 66/400\n",
            "781/781 [==============================] - 460s 589ms/step - loss: 0.6336 - accuracy: 0.7824 - val_loss: 0.6766 - val_accuracy: 0.7690\n",
            "Epoch 67/400\n",
            "781/781 [==============================] - 457s 585ms/step - loss: 0.6276 - accuracy: 0.7845 - val_loss: 0.5396 - val_accuracy: 0.8159\n",
            "Epoch 68/400\n",
            "781/781 [==============================] - 458s 586ms/step - loss: 0.6140 - accuracy: 0.7893 - val_loss: 0.5969 - val_accuracy: 0.7966\n",
            "Epoch 69/400\n",
            "594/781 [=====================>........] - ETA: 1:43 - loss: 0.6197 - accuracy: 0.7874"
          ],
          "name": "stdout"
        }
      ]
    },
    {
      "cell_type": "code",
      "metadata": {
        "id": "ML9uGQBS0ewa"
      },
      "source": [
        "test_loss, test_acc = model.evaluate(X_test, y_test, verbose=1)\n",
        "print(\"Test loss: \", test_loss, \"\\nTest accuracy: \", test_acc)"
      ],
      "execution_count": null,
      "outputs": []
    },
    {
      "cell_type": "code",
      "metadata": {
        "id": "-eIigTntGs6D"
      },
      "source": [
        "model.save('final_model.h5')"
      ],
      "execution_count": null,
      "outputs": []
    }
  ]
}